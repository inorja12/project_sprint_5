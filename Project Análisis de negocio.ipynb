{
 "cells": [
  {
   "cell_type": "markdown",
   "metadata": {},
   "source": [
    "# Hola &#x1F600;,\n",
    "\n",
    "Soy **Hesus Garcia** – **\"Soy el único Hesus que conoces (y probablemente conocerás) 🌟\"** – Sí, como \"Jesús\", pero con una H que me hace único. Puede sonar raro, pero créeme, ¡no lo olvidarás! Como tu revisor en Triple-Ten, estoy aquí para guiarte y ayudarte a mejorar tu código. Si algo necesita un ajuste, no hay de qué preocuparse; ¡aquí estoy para hacer que tu trabajo brille con todo su potencial! ✨\n",
    "\n",
    "Cada vez que encuentre un detalle importante en tu código, te lo señalaré para que puedas corregirlo y así te prepares para un ambiente de trabajo real, donde el líder de tu equipo actuaría de manera similar. Si en algún momento no logras solucionar el problema, te daré más detalles para ayudarte en nuestra próxima oportunidad de revisión.\n",
    "\n",
    "Es importante que cuando encuentres un comentario, **no los muevas, no los modifiques, ni los borres**.\n",
    "\n",
    "---\n",
    "\n",
    "### Formato de Comentarios\n",
    "\n",
    "Revisaré cuidadosamente cada implementación en tu notebook para asegurar que cumpla con los requisitos y te daré comentarios de acuerdo al siguiente formato:\n",
    "\n",
    "\n",
    "<div class=\"alert alert-block alert-success\">\n",
    "<b>Comentario del revisor</b> <a class=\"tocSkip\"></a><br>\n",
    "    \n",
    "<b>Éxito</b> - ¡Excelente trabajo! Esta parte está bien implementada y contribuye significativamente al análisis de datos o al proyecto. Continúa aplicando estas buenas prácticas en futuras secciones.\n",
    "    \n",
    "</div>\n",
    "\n",
    "<div class=\"alert alert-block alert-warning\">\n",
    "<b>Comentario del revisor</b> <a class=\"tocSkip\"></a><br>\n",
    "    \n",
    "<b>Atención</b> ⚠️ - Este código está correcto, pero se puede optimizar. Considera implementar mejoras para que sea más eficiente y fácil de leer. Esto fortalecerá la calidad de tu proyecto.\n",
    "    \n",
    "</div>\n",
    "\n",
    "<div class=\"alert alert-block alert-danger\">\n",
    "<b>Comentario del revisor</b> <a class=\"tocSkip\"></a><br>\n",
    "    \n",
    "<b>A resolver</b> ❗ - Aquí hay un problema o error en el código que es necesario corregir para aprobar esta sección. Por favor, revisa y corrige este punto, ya que es fundamental para la validez del análisis y la precisión de los resultados.\n",
    "    \n",
    "</div>\n",
    "\n",
    "---\n",
    "\n",
    "Al final de cada revisión, recibirás un **Comentario General del Revisor** que incluirá:\n",
    "\n",
    "- **Aspectos positivos:** Un resumen de los puntos fuertes de tu proyecto.\n",
    "- **Áreas de mejora:** Sugerencias sobre aspectos donde puedes mejorar.\n",
    "- **Temas adicionales para investigar:** Ideas de temas opcionales que puedes explorar por tu cuenta para desarrollar aún más tus habilidades.\n",
    "\n",
    "Estos temas adicionales no son obligatorios en esta etapa, pero pueden serte útiles para profundizar en el futuro.\n",
    "\n",
    "---\n",
    "\n",
    "\n",
    "Esta estructura en viñetas facilita la lectura y comprensión de cada parte del comentario final.\n",
    "\n",
    "También puedes responderme de la siguiente manera si tienes alguna duda o quieres aclarar algo específico:\n",
    "\n",
    "\n",
    "<div class=\"alert alert-block alert-info\">\n",
    "<b>Respuesta del estudiante</b> <a class=\"tocSkip\"></a>\n",
    "    \n",
    "Aquí puedes escribir tu respuesta o pregunta sobre el comentario.\n",
    "    \n",
    "</div>\n",
    "\n",
    "\n",
    "**¡Empecemos!** &#x1F680;\n"
   ]
  },
  {
   "cell_type": "code",
   "execution_count": 1,
   "metadata": {},
   "outputs": [
    {
     "name": "stdout",
     "output_type": "stream",
     "text": [
      "Visitas Log:\n",
      "    Device               End Ts  Source Id             Start Ts  \\\n",
      "0    touch  2017-12-20 17:38:00          4  2017-12-20 17:20:00   \n",
      "1  desktop  2018-02-19 17:21:00          2  2018-02-19 16:53:00   \n",
      "2    touch  2017-07-01 01:54:00          5  2017-07-01 01:54:00   \n",
      "3  desktop  2018-05-20 11:23:00          9  2018-05-20 10:59:00   \n",
      "4  desktop  2017-12-27 14:06:00          3  2017-12-27 14:06:00   \n",
      "\n",
      "                    Uid  \n",
      "0  16879256277535980062  \n",
      "1    104060357244891740  \n",
      "2   7459035603376831527  \n",
      "3  16174680259334210214  \n",
      "4   9969694820036681168  \n",
      "\n",
      "Pedidos Log:\n",
      "                Buy Ts  Revenue                   Uid\n",
      "0  2017-06-01 00:10:00    17.00  10329302124590727494\n",
      "1  2017-06-01 00:25:00     0.55  11627257723692907447\n",
      "2  2017-06-01 00:27:00     0.37  17903680561304213844\n",
      "3  2017-06-01 00:29:00     0.55  16109239769442553005\n",
      "4  2017-06-01 07:58:00     0.37  14200605875248379450\n",
      "\n",
      "Costos Log:\n",
      "   source_id          dt  costs\n",
      "0          1  2017-06-01  75.20\n",
      "1          1  2017-06-02  62.25\n",
      "2          1  2017-06-03  36.53\n",
      "3          1  2017-06-04  55.00\n",
      "4          1  2017-06-05  57.08\n",
      "\n",
      "Tipos de datos en el dataset de visitas:\n",
      "Device       object\n",
      "End Ts       object\n",
      "Source Id     int64\n",
      "Start Ts     object\n",
      "Uid          uint64\n",
      "dtype: object\n",
      "\n",
      "Tipos de datos en el dataset de pedidos:\n",
      "Buy Ts      object\n",
      "Revenue    float64\n",
      "Uid         uint64\n",
      "dtype: object\n",
      "\n",
      "Tipos de datos en el dataset de costos:\n",
      "source_id      int64\n",
      "dt            object\n",
      "costs        float64\n",
      "dtype: object\n",
      "\n",
      "Tipos de datos después de la conversión de fechas:\n",
      "Device               object\n",
      "End Ts       datetime64[ns]\n",
      "Source Id             int64\n",
      "Start Ts     datetime64[ns]\n",
      "Uid                  uint64\n",
      "dtype: object\n",
      "Buy Ts     datetime64[ns]\n",
      "Revenue           float64\n",
      "Uid                uint64\n",
      "dtype: object\n",
      "source_id             int64\n",
      "dt           datetime64[ns]\n",
      "costs               float64\n",
      "dtype: object\n"
     ]
    }
   ],
   "source": [
    "import pandas as pd\n",
    "\n",
    "# Cargar los datasets\n",
    "visits_log = pd.read_csv('/datasets/visits_log_us.csv')\n",
    "orders_log = pd.read_csv('/datasets/orders_log_us.csv')\n",
    "costs_log = pd.read_csv('/datasets/costs_us.csv')\n",
    "\n",
    "# Verificar las primeras filas de cada dataset\n",
    "print(\"Visitas Log:\")\n",
    "print(visits_log.head())\n",
    "print(\"\\nPedidos Log:\")\n",
    "print(orders_log.head())\n",
    "print(\"\\nCostos Log:\")\n",
    "print(costs_log.head())\n",
    "\n",
    "# Verificar tipos de datos en cada dataset\n",
    "print(\"\\nTipos de datos en el dataset de visitas:\")\n",
    "print(visits_log.dtypes)\n",
    "\n",
    "print(\"\\nTipos de datos en el dataset de pedidos:\")\n",
    "print(orders_log.dtypes)\n",
    "\n",
    "print(\"\\nTipos de datos en el dataset de costos:\")\n",
    "print(costs_log.dtypes)\n",
    "\n",
    "# Asegurarse de que las columnas de fechas estén en el formato correcto\n",
    "visits_log['End Ts'] = pd.to_datetime(visits_log['End Ts'])\n",
    "visits_log['Start Ts'] = pd.to_datetime(visits_log['Start Ts'])\n",
    "orders_log['Buy Ts'] = pd.to_datetime(orders_log['Buy Ts'])\n",
    "costs_log['dt'] = pd.to_datetime(costs_log['dt'])\n",
    "\n",
    "# Verificar nuevamente los tipos de datos después de la conversión\n",
    "print(\"\\nTipos de datos después de la conversión de fechas:\")\n",
    "print(visits_log.dtypes)\n",
    "print(orders_log.dtypes)\n",
    "print(costs_log.dtypes)"
   ]
  },
  {
   "cell_type": "code",
   "execution_count": 2,
   "metadata": {
    "scrolled": true
   },
   "outputs": [
    {
     "name": "stdout",
     "output_type": "stream",
     "text": [
      "Visitas diarias (número de usuarios únicos por día):\n",
      "Start Ts\n",
      "2017-06-01    605\n",
      "2017-06-02    608\n",
      "2017-06-03    445\n",
      "2017-06-04    476\n",
      "2017-06-05    820\n",
      "Name: Uid, dtype: int64\n",
      "\n",
      "Visitas semanales (número de usuarios únicos por semana):\n",
      "Start Ts\n",
      "2017-05-29/2017-06-04    2021\n",
      "2017-06-05/2017-06-11    4129\n",
      "2017-06-12/2017-06-18    2812\n",
      "2017-06-19/2017-06-25    2878\n",
      "2017-06-26/2017-07-02    3064\n",
      "Freq: W-SUN, Name: Uid, dtype: int64\n",
      "\n",
      "Visitas mensuales (número de usuarios únicos por mes):\n",
      "Start Ts\n",
      "2017-06    13259\n",
      "2017-07    14183\n",
      "2017-08    11631\n",
      "2017-09    18975\n",
      "2017-10    29692\n",
      "Freq: M, Name: Uid, dtype: int64\n"
     ]
    }
   ],
   "source": [
    "# Agrupar por día: Contar usuarios únicos por cada día\n",
    "visitas_diarias = visits_log.groupby(visits_log['Start Ts'].dt.date)['Uid'].nunique()\n",
    "# Agrupar por semana: Contar usuarios únicos por cada semana\n",
    "visitas_semanales = visits_log.groupby(visits_log['Start Ts'].dt.to_period('W'))['Uid'].nunique()\n",
    "# Agrupar por mes: Contar usuarios únicos por cada mes\n",
    "visitas_mensuales = visits_log.groupby(visits_log['Start Ts'].dt.to_period('M'))['Uid'].nunique()\n",
    "# Imprimir resultados\n",
    "print(\"Visitas diarias (número de usuarios únicos por día):\")\n",
    "print(visitas_diarias.head())  # Imprime las primeras filas\n",
    "\n",
    "print(\"\\nVisitas semanales (número de usuarios únicos por semana):\")\n",
    "print(visitas_semanales.head())  # Imprime las primeras filas\n",
    "\n",
    "print(\"\\nVisitas mensuales (número de usuarios únicos por mes):\")\n",
    "print(visitas_mensuales.head())  # Imprime las primeras filas"
   ]
  },
  {
   "cell_type": "code",
   "execution_count": 3,
   "metadata": {},
   "outputs": [
    {
     "name": "stdout",
     "output_type": "stream",
     "text": [
      "Número de sesiones por día:\n",
      "Start Ts\n",
      "2017-06-01    664\n",
      "2017-06-02    658\n",
      "2017-06-03    477\n",
      "2017-06-04    510\n",
      "2017-06-05    893\n",
      "dtype: int64\n"
     ]
    }
   ],
   "source": [
    "# Agrupar por día: Contar el número de sesiones (filas) por cada día\n",
    "sesiones_diarias = visits_log.groupby(visits_log['Start Ts'].dt.date).size()\n",
    "\n",
    "# Imprimir los resultados\n",
    "print(\"Número de sesiones por día:\")\n",
    "print(sesiones_diarias.head())  # Imprime las primeras filas"
   ]
  },
  {
   "cell_type": "code",
   "execution_count": 4,
   "metadata": {},
   "outputs": [
    {
     "name": "stdout",
     "output_type": "stream",
     "text": [
      "Duración de las sesiones (en segundos):\n",
      "                    Uid            Start Ts              End Ts  \\\n",
      "0  16879256277535980062 2017-12-20 17:20:00 2017-12-20 17:38:00   \n",
      "1    104060357244891740 2018-02-19 16:53:00 2018-02-19 17:21:00   \n",
      "2   7459035603376831527 2017-07-01 01:54:00 2017-07-01 01:54:00   \n",
      "3  16174680259334210214 2018-05-20 10:59:00 2018-05-20 11:23:00   \n",
      "4   9969694820036681168 2017-12-27 14:06:00 2017-12-27 14:06:00   \n",
      "\n",
      "   Session Duration  \n",
      "0            1080.0  \n",
      "1            1680.0  \n",
      "2               0.0  \n",
      "3            1440.0  \n",
      "4               0.0  \n"
     ]
    }
   ],
   "source": [
    "# Calcular la duración de cada sesión\n",
    "visits_log['Session Duration'] = (visits_log['End Ts'] - visits_log['Start Ts']).dt.total_seconds()\n",
    "\n",
    "# Imprimir las primeras filas para ver la duración de las sesiones\n",
    "print(\"Duración de las sesiones (en segundos):\")\n",
    "print(visits_log[['Uid', 'Start Ts', 'End Ts', 'Session Duration']].head())"
   ]
  },
  {
   "cell_type": "markdown",
   "metadata": {},
   "source": [
    "<div class=\"alert alert-block alert-success\">  \n",
    "<b>Comentario del revisor</b> <a class=\"tocSkip\"></a><br>  \n",
    "<b>Éxito</b> - Muy buen trabajo en la carga, inspección y transformación de datos. La conversión de fechas y la agregación de visitas por diferentes períodos están bien estructuradas, lo que facilitará el análisis posterior. \n",
    "</div>"
   ]
  },
  {
   "cell_type": "code",
   "execution_count": 5,
   "metadata": {},
   "outputs": [
    {
     "name": "stdout",
     "output_type": "stream",
     "text": [
      "Frecuencia de regreso de los usuarios (en días promedio):\n",
      "Uid\n",
      "11863502262781       NaN\n",
      "49537067089222       NaN\n",
      "297729379853735      NaN\n",
      "313578113262317     86.5\n",
      "325320750514679    148.0\n",
      "Name: Time Between Sessions Days, dtype: float64\n"
     ]
    }
   ],
   "source": [
    "# Ordenar por usuario (Uid) y por la fecha de inicio de la sesión\n",
    "visits_log = visits_log.sort_values(by=['Uid', 'Start Ts'])\n",
    "\n",
    "# Calcular el tiempo entre sesiones consecutivas para cada usuario\n",
    "visits_log['Time Between Sessions'] = visits_log.groupby('Uid')['Start Ts'].diff()\n",
    "\n",
    "# Convertir la columna 'Time Between Sessions' a días (número entero)\n",
    "visits_log['Time Between Sessions Days'] = visits_log['Time Between Sessions'].dt.days\n",
    "\n",
    "# Calcular la frecuencia de regreso de los usuarios: intervalos de tiempo entre sesiones\n",
    "# Aquí, analizaremos cuántos días en promedio pasan entre las sesiones de cada usuario\n",
    "frecuencia_regreso = visits_log.groupby('Uid')['Time Between Sessions Days'].mean()\n",
    "\n",
    "# Imprimir la frecuencia de regreso de los primeros usuarios\n",
    "print(\"Frecuencia de regreso de los usuarios (en días promedio):\")\n",
    "print(frecuencia_regreso.head())\n"
   ]
  },
  {
   "cell_type": "code",
   "execution_count": 6,
   "metadata": {},
   "outputs": [
    {
     "name": "stdout",
     "output_type": "stream",
     "text": [
      "Resumen de cohortes de conversión:\n",
      "                Cohort  Number of Users\n",
      "0      Conversion 0.0d            26363\n",
      "1      Conversion 1.0d             1011\n",
      "2      Conversion 2.0d              563\n",
      "3      Conversion 3.0d              434\n",
      "4      Conversion 4.0d              324\n",
      "..                 ...              ...\n",
      "340  Conversion 332.0d                1\n",
      "341  Conversion 329.0d                1\n",
      "342  Conversion 297.0d                1\n",
      "343  Conversion 309.0d                1\n",
      "344  Conversion 344.0d                1\n",
      "\n",
      "[345 rows x 2 columns]\n"
     ]
    }
   ],
   "source": [
    "# Encontrar la primera visita de cada usuario\n",
    "first_visit = visits_log.groupby('Uid')['Start Ts'].min().reset_index()\n",
    "first_visit = first_visit.rename(columns={'Start Ts': 'First Visit'})\n",
    "\n",
    "# Encontrar la primera compra de cada usuario\n",
    "first_purchase = orders_log.groupby('Uid')['Buy Ts'].min().reset_index()\n",
    "first_purchase = first_purchase.rename(columns={'Buy Ts': 'First Purchase'})\n",
    "\n",
    "# Unir los datos de primera visita y primera compra\n",
    "user_data = pd.merge(first_visit, first_purchase, on='Uid', how='left')\n",
    "\n",
    "# Calcular la diferencia entre la primera visita y la primera compra (en días)\n",
    "user_data['Days to First Purchase'] = (user_data['First Purchase'] - user_data['First Visit']).dt.days\n",
    "\n",
    "# Filtrar los usuarios que han realizado una compra (aquellos con 'Days to First Purchase' no NaN)\n",
    "user_data = user_data.dropna(subset=['Days to First Purchase'])\n",
    "\n",
    "# Categorizar a los usuarios en cohortes según los días hasta la compra\n",
    "user_data['Conversion Cohort'] = user_data['Days to First Purchase'].apply(\n",
    "    lambda x: f\"Conversion {x}d\" if x >= 0 else 'No Purchase'\n",
    ")\n",
    "\n",
    "# Ver el resumen de las cohortes\n",
    "cohort_summary = user_data['Conversion Cohort'].value_counts().reset_index()\n",
    "cohort_summary.columns = ['Cohort', 'Number of Users']\n",
    "\n",
    "# Imprimir el resumen\n",
    "print(\"Resumen de cohortes de conversión:\")\n",
    "print(cohort_summary)"
   ]
  },
  {
   "cell_type": "code",
   "execution_count": 7,
   "metadata": {
    "scrolled": true
   },
   "outputs": [
    {
     "name": "stdout",
     "output_type": "stream",
     "text": [
      "Pedidos por día:\n",
      "         Date  Number of Orders\n",
      "0  2017-06-01                96\n",
      "1  2017-06-02               111\n",
      "2  2017-06-03                67\n",
      "3  2017-06-04                66\n",
      "4  2017-06-05               161\n",
      "\n",
      "Pedidos por semana:\n",
      "                    Week  Number of Orders\n",
      "0  2017-05-29/2017-06-04               340\n",
      "1  2017-06-05/2017-06-11               938\n",
      "2  2017-06-12/2017-06-18               343\n",
      "3  2017-06-19/2017-06-25               371\n",
      "4  2017-06-26/2017-07-02               460\n",
      "\n",
      "Pedidos por mes:\n",
      "     Month  Number of Orders\n",
      "0  2017-06              2354\n",
      "1  2017-07              2363\n",
      "2  2017-08              1807\n",
      "3  2017-09              3387\n",
      "4  2017-10              5679\n"
     ]
    }
   ],
   "source": [
    "# Contar el número de pedidos por día\n",
    "orders_by_day = orders_log.groupby(orders_log['Buy Ts'].dt.date).size().reset_index(name='Number of Orders')\n",
    "orders_by_day.columns = ['Date', 'Number of Orders']\n",
    "\n",
    "# Contar el número de pedidos por semana\n",
    "orders_by_week = orders_log.groupby(orders_log['Buy Ts'].dt.to_period('W')).size().reset_index(name='Number of Orders')\n",
    "orders_by_week.columns = ['Week', 'Number of Orders']\n",
    "\n",
    "# Contar el número de pedidos por mes\n",
    "orders_by_month = orders_log.groupby(orders_log['Buy Ts'].dt.to_period('M')).size().reset_index(name='Number of Orders')\n",
    "orders_by_month.columns = ['Month', 'Number of Orders']\n",
    "\n",
    "# Imprimir los resultados\n",
    "print(\"Pedidos por día:\")\n",
    "print(orders_by_day.head())\n",
    "\n",
    "print(\"\\nPedidos por semana:\")\n",
    "print(orders_by_week.head())\n",
    "\n",
    "print(\"\\nPedidos por mes:\")\n",
    "print(orders_by_month.head())\n"
   ]
  },
  {
   "cell_type": "markdown",
   "metadata": {},
   "source": [
    "<div class=\"alert alert-block alert-success\">  \n",
    "<b>Comentario del revisor</b> <a class=\"tocSkip\"></a><br>  \n",
    "<b>Éxito</b> - Excelente implementación del análisis de la frecuencia de regreso y de la conversión de usuarios. La estructura del código es clara y permite obtener información valiosa sobre el comportamiento de los usuarios en términos de visitas y compras.  \n",
    "</div>"
   ]
  },
  {
   "cell_type": "code",
   "execution_count": 8,
   "metadata": {},
   "outputs": [
    {
     "name": "stdout",
     "output_type": "stream",
     "text": [
      "El tamaño promedio de compra es: $5.00\n"
     ]
    }
   ],
   "source": [
    "# Calcular la suma total de los ingresos de todos los pedidos\n",
    "total_purchase_value = orders_log['Revenue'].sum()\n",
    "\n",
    "# Contar el número total de pedidos\n",
    "total_orders = orders_log.shape[0]\n",
    "\n",
    "# Calcular el tamaño promedio de compra\n",
    "average_order_size = total_purchase_value / total_orders\n",
    "\n",
    "# Mostrar el tamaño promedio de compra\n",
    "print(f\"El tamaño promedio de compra es: ${average_order_size:.2f}\")\n"
   ]
  },
  {
   "cell_type": "code",
   "execution_count": 9,
   "metadata": {},
   "outputs": [
    {
     "name": "stdout",
     "output_type": "stream",
     "text": [
      "El LTV promedio de un cliente es: $6.90\n"
     ]
    }
   ],
   "source": [
    "# Agrupar por 'Uid' y sumar los ingresos ('Revenue') para cada cliente\n",
    "total_revenue_per_customer = orders_log.groupby('Uid')['Revenue'].sum()\n",
    "\n",
    "# Calcular el LTV promedio (promedio del total de ingresos de todos los clientes)\n",
    "ltv = total_revenue_per_customer.mean()\n",
    "\n",
    "# Mostrar el LTV\n",
    "print(f\"El LTV promedio de un cliente es: ${ltv:.2f}\")\n"
   ]
  },
  {
   "cell_type": "code",
   "execution_count": 10,
   "metadata": {},
   "outputs": [
    {
     "name": "stdout",
     "output_type": "stream",
     "text": [
      "Gasto total en marketing: $329131.62\n"
     ]
    }
   ],
   "source": [
    "# Calcular el gasto total en marketing\n",
    "total_marketing_spent = costs_log['costs'].sum()\n",
    "\n",
    "print(f\"Gasto total en marketing: ${total_marketing_spent:.2f}\")"
   ]
  },
  {
   "cell_type": "code",
   "execution_count": 11,
   "metadata": {},
   "outputs": [
    {
     "name": "stdout",
     "output_type": "stream",
     "text": [
      "Gasto por fuente de adquisición:\n",
      "source_id\n",
      "1      20833.27\n",
      "2      42806.04\n",
      "3     141321.63\n",
      "4      61073.60\n",
      "5      51757.10\n",
      "9       5517.49\n",
      "10      5822.49\n",
      "Name: costs, dtype: float64\n"
     ]
    }
   ],
   "source": [
    "# Agrupar por fuente de adquisición y calcular el gasto por cada fuente\n",
    "gasto_por_fuente = costs_log.groupby('source_id')['costs'].sum()\n",
    "\n",
    "print(\"Gasto por fuente de adquisición:\")\n",
    "print(gasto_por_fuente)"
   ]
  },
  {
   "cell_type": "code",
   "execution_count": 12,
   "metadata": {},
   "outputs": [
    {
     "name": "stdout",
     "output_type": "stream",
     "text": [
      "Gasto por mes:\n",
      "dt\n",
      "2017-06    18015.00\n",
      "2017-07    18240.59\n",
      "2017-08    14790.54\n",
      "2017-09    24368.91\n",
      "2017-10    36322.88\n",
      "2017-11    37907.88\n",
      "2017-12    38315.35\n",
      "2018-01    33518.52\n",
      "2018-02    32723.03\n",
      "2018-03    30415.27\n",
      "2018-04    22289.38\n",
      "2018-05    22224.27\n",
      "Freq: M, Name: costs, dtype: float64\n"
     ]
    }
   ],
   "source": [
    "# Asegurar de que la columna 'dt' esté en formato datetime\n",
    "costs_log['dt'] = pd.to_datetime(costs_log['dt'])\n",
    "\n",
    "# Agrupar por mes y calcular el gasto mensual\n",
    "gasto_mensual = costs_log.groupby(costs_log['dt'].dt.to_period('M'))['costs'].sum()\n",
    "\n",
    "print(\"Gasto por mes:\")\n",
    "print(gasto_mensual)"
   ]
  },
  {
   "cell_type": "code",
   "execution_count": 13,
   "metadata": {},
   "outputs": [
    {
     "name": "stdout",
     "output_type": "stream",
     "text": [
      "   source_id       CAC\n",
      "0          1  1.096546\n",
      "1          2  1.631017\n",
      "2          3  1.890439\n",
      "3          4  0.731201\n",
      "4          5  0.908434\n",
      "5          9  0.595584\n",
      "6         10  0.721766\n"
     ]
    }
   ],
   "source": [
    "#Calcular el costo total por source_id (sumar los costos por source_id)\n",
    "costs_per_source = costs_log.groupby('source_id')['costs'].sum().reset_index()\n",
    "\n",
    "#Calcular el numero de clientes unicos por source_id\n",
    "clients_per_source = visits_log.groupby('Source Id')['Uid'].nunique().reset_index()\n",
    "\n",
    "#unir los dos dataframes basados en source (source_id)\n",
    "#Renombrar las columnas para hacer una union apropiada\n",
    "clients_per_source.rename(columns={'Source Id': 'source_id', 'Uid': 'num_clients'}, inplace=True)\n",
    "\n",
    "#poner costos y clientes en el mismo dataframe\n",
    "cost_and_clients = pd.merge(costs_per_source, clients_per_source, on='source_id', how='left')\n",
    "\n",
    "#Calcular elcosto de adquision por cliente (CAC) por source\n",
    "cost_and_clients['CAC'] = cost_and_clients['costs'] / cost_and_clients['num_clients']\n",
    "\n",
    "#resultado final\n",
    "print(cost_and_clients[['source_id', 'CAC']])"
   ]
  },
  {
   "cell_type": "code",
   "execution_count": 14,
   "metadata": {},
   "outputs": [
    {
     "name": "stdout",
     "output_type": "stream",
     "text": [
      "   Source Id        ROMI\n",
      "0          1  109.313944\n",
      "1          2   60.631237\n",
      "2          3    1.099381\n",
      "3          4    7.132649\n",
      "4          5   21.827344\n",
      "5          6         NaN\n",
      "6          7         NaN\n",
      "7          9    5.586736\n",
      "8         10    1.510821\n"
     ]
    }
   ],
   "source": [
    "# 1. Calculate the revenue generated by each acquisition source\n",
    "# First, merge visits_log with orders_log to get the revenue associated with each customer\n",
    "customer_revenue = pd.merge(visits_log[['Uid', 'Source Id']], orders_log[['Uid', 'Revenue']], on='Uid', how='left')\n",
    "\n",
    "# Sum the revenue generated by each Source Id\n",
    "revenue_by_source = customer_revenue.groupby('Source Id')['Revenue'].sum().reset_index()\n",
    "\n",
    "# 2. Calculate the total cost per source (this was done previously)\n",
    "cost_by_source = costs_log.groupby('source_id')['costs'].sum().reset_index()\n",
    "\n",
    "# 3. Merge the revenue and cost data based on the source\n",
    "revenue_and_cost = pd.merge(revenue_by_source, cost_by_source, left_on='Source Id', right_on='source_id', how='left')\n",
    "\n",
    "# 4. Calculate the ROMI per source\n",
    "revenue_and_cost['ROMI'] = (revenue_and_cost['Revenue'] - revenue_and_cost['costs']) / revenue_and_cost['costs']\n",
    "\n",
    "# Show the final result\n",
    "print(revenue_and_cost[['Source Id', 'ROMI']])\n"
   ]
  },
  {
   "cell_type": "markdown",
   "metadata": {},
   "source": [
    "<div class=\"alert alert-block alert-success\">  \n",
    "<b>Comentario del revisor</b> <a class=\"tocSkip\"></a><br>  \n",
    "<b>Éxito</b> - Muy buen trabajo en el cálculo de métricas financieras clave como LTV, CAC y ROMI. La metodología utilizada para unir datasets y calcular costos y retornos está bien estructurada, proporcionando un análisis sólido del rendimiento del marketing.  \n",
    "</div>"
   ]
  },
  {
   "cell_type": "markdown",
   "metadata": {},
   "source": [
    "### Algunas conclusiones sobre todo lo que acabo de hacer:\n",
    "- Las fuentes 1 y 2 son evidentemente mas rentables, obteniendo grandes retornos; podria considerarse mantener estas fuentes e incluso aumentar la inversion en estas\n",
    "- Las fuentes 6 y 7 que tienen NaN podria ser porque no generaron ventas durante el periodo que se analizo"
   ]
  },
  {
   "cell_type": "code",
   "execution_count": 16,
   "metadata": {},
   "outputs": [
    {
     "data": {
      "image/png": "[encoded data removed]",
      "text/plain": [
       "<Figure size 1000x500 with 1 Axes>"
      ]
     },
     "metadata": {},
     "output_type": "display_data"
    }
   ],
   "source": [
    "import matplotlib.pyplot as plt\n",
    "import seaborn as sns\n",
    "\n",
    "# Gráfico de ROMI por fuente de adquisición\n",
    "plt.figure(figsize=(10, 5))\n",
    "sns.barplot(data=revenue_and_cost, x='Source Id', y='ROMI', palette='viridis')\n",
    "\n",
    "# Línea de referencia en 0\n",
    "plt.axhline(0, color='red', linestyle='dashed', linewidth=1)\n",
    "\n",
    "plt.title('ROMI por Fuente de Adquisición')\n",
    "plt.xlabel('Fuente de Adquisición (Source Id)')\n",
    "plt.ylabel('ROMI')\n",
    "plt.xticks(rotation=45)\n",
    "plt.show()\n"
   ]
  },
  {
   "cell_type": "code",
   "execution_count": 17,
   "metadata": {},
   "outputs": [
    {
     "data": {
      "image/png": "[encoded data removed]",
      "text/plain": [
       "<Figure size 1000x500 with 1 Axes>"
      ]
     },
     "metadata": {},
     "output_type": "display_data"
    }
   ],
   "source": [
    "# Unir visitas con órdenes para obtener el revenue por dispositivo\n",
    "customer_device_revenue = pd.merge(visits_log[['Uid', 'Device']], orders_log[['Uid', 'Revenue']], on='Uid', how='left')\n",
    "\n",
    "# Gráfico de distribución del revenue por dispositivo\n",
    "plt.figure(figsize=(10, 5))\n",
    "sns.boxplot(data=customer_device_revenue, x='Device', y='Revenue', palette='coolwarm')\n",
    "\n",
    "plt.title('Distribución del Revenue por Dispositivo')\n",
    "plt.xlabel('Dispositivo')\n",
    "plt.ylabel('Revenue')\n",
    "plt.xticks(rotation=45)\n",
    "plt.show()\n"
   ]
  },
  {
   "cell_type": "code",
   "execution_count": 18,
   "metadata": {},
   "outputs": [
    {
     "data": {
      "image/png": "[encoded data removed]",
      "text/plain": [
       "<Figure size 1200x600 with 1 Axes>"
      ]
     },
     "metadata": {},
     "output_type": "display_data"
    }
   ],
   "source": [
    "# Asegurar que las fechas estén en formato correcto\n",
    "orders_log['Buy Ts'] = pd.to_datetime(orders_log['Buy Ts'])\n",
    "costs_log['dt'] = pd.to_datetime(costs_log['dt'])\n",
    "\n",
    "# Agrupar revenue por fecha\n",
    "orders_log['Date'] = orders_log['Buy Ts'].dt.date\n",
    "daily_revenue = orders_log.groupby('Date')['Revenue'].sum().reset_index()\n",
    "\n",
    "# Agrupar costos por fecha\n",
    "costs_log['Date'] = costs_log['dt'].dt.date\n",
    "daily_costs = costs_log.groupby('Date')['costs'].sum().reset_index()\n",
    "\n",
    "# Fusionar los datos de revenue y costos en una sola tabla\n",
    "revenue_costs_time = pd.merge(daily_revenue, daily_costs, on='Date', how='outer').fillna(0)\n",
    "\n",
    "# Gráfico de evolución del revenue y los costos\n",
    "plt.figure(figsize=(12, 6))\n",
    "plt.plot(revenue_costs_time['Date'], revenue_costs_time['Revenue'], label='Revenue', color='green')\n",
    "plt.plot(revenue_costs_time['Date'], revenue_costs_time['costs'], label='Costs', color='red')\n",
    "\n",
    "plt.title('Evolución de Revenue y Costos a lo largo del Tiempo')\n",
    "plt.xlabel('Fecha')\n",
    "plt.ylabel('Monto ($)')\n",
    "plt.legend()\n",
    "plt.xticks(rotation=45)\n",
    "plt.grid()\n",
    "plt.show()\n"
   ]
  },
  {
   "cell_type": "markdown",
   "metadata": {},
   "source": [
    "#### Recomendación general de inversión en fuentes publicitarias\n",
    "\n",
    "Con base en los cálculos de ROMI (Returnon Marketing Investment), recomiendo utilizar la inversiónen en las fuentes 1 y 2, ya que generan los mayores retornos. Esta recomendación está basada en los resultados obtenidos de ROMI, Revenue generado por cada fuente, y  costos asociados a cada fuente; este análisis nos permite concluir que:\n",
    "- Incrementar la inversión en las fuentes 1 y 2 podría maximizar ganancias.\n",
    "- La inversión en las fuentes 6 y 7 no sería eficiente ya que estas fuentes no generaron ganancias.\n",
    "- La fuente 3 debería someterse a un análisis para ver si vale la pena invertir en campañas para mejorar su rentabilidad o si al contrario se debería reducir la inversión en esta.\n",
    "- Fuentes como la 5, 9 y 10 podrían seguir reciviendo inversión pero con un monitoreo constante.\n",
    "\n",
    "#### Optimización de dispositivos para campañas\n",
    "\n",
    "El análisis de distribución de revenue por dispositivo mostró que los usuarios de escritorio generan más ingresos. Para llegar a este resultado utilicé un Boxplot de revenue por dispositivo que me permitió detectar anomalías y saber cual dispositivo genera más ingresos, Volumen de usuarios por dispositivo que identifica la cantidad de tráfico desde cada plataforma; con estos resultados podr+ia concluir que:\n",
    "- Las campañas dirigidas a usuarios de escritorio deberían ser reforzadas con anuncios personalizados\n",
    "- Optimizar la experiencia en desktop podría mejorar las conversiones\n",
    "- Con respecto a losdispositivos mobiles sería recomendable hacer ajustes en las campañas segmentadas para generar más ingresos.\n",
    "\n",
    "#### Ajustes de inversión basados en tendencias temporales\n",
    "\n",
    "El gráfico de evolución de revenue y costos en el tiempo nos permite detectar picos de ventas y períodos de baja conversión; con esta gráfica podemos ver si hay días o temporadas donde la inversión es menos efetiva y se pueden identificar patrones de consumo, por lo tanto se recomienda:\n",
    "- En las fechas donde estan los picos de ingresos aumentar la inversión en publicidad, días antes, para captar más tráfico.\n",
    "- Realizar promociones especiales y/o específicas en los días de alta conversión.\n",
    "- Igualmente, los días en que la inversión es más alta que los ingresos se debe revisar la efectividad de los anuncios y ajustar la estrategia y si es necesario re-distribuir la inversión en los días que realmente generan más ventas."
   ]
  },
  {
   "cell_type": "markdown",
   "metadata": {},
   "source": [
    "<div class=\"alert alert-block alert-success\">  \n",
    "<b>Comentario del revisor</b> <a class=\"tocSkip\"></a><br>  \n",
    "<b>Éxito</b> - Excelente síntesis de conclusiones y recomendaciones estratégicas basadas en el análisis de datos. Las decisiones propuestas sobre inversión publicitaria, optimización por dispositivos y ajustes basados en tendencias temporales están bien fundamentadas. Este enfoque analítico fortalecerá la toma de decisiones empresariales. \n",
    "</div>"
   ]
  },
  {
   "cell_type": "markdown",
   "metadata": {},
   "source": [
    "# Comentario general del revisor "
   ]
  },
  {
   "cell_type": "markdown",
   "metadata": {},
   "source": [
    "\n",
    "<div class=\"alert alert-block alert-success\">  \n",
    "<b>Comentario del revisor</b> <a class=\"tocSkip\"></a> \n",
    "    \n",
    "¡Felicidades Ingrid! Tu proyecto está **aprobado**. Has demostrado un excelente manejo de los datos, análisis exploratorio y generación de conclusiones estratégicas basadas en métricas clave. A continuación, destaco los puntos positivos y algunas áreas interesantes para seguir investigando:  \n",
    "\n",
    "**Puntos Positivos:**\n",
    "    \n",
    "- **Procesamiento de datos:** La carga, limpieza y transformación de datos están bien estructuradas y correctamente implementadas.  \n",
    "- **Análisis de cohortes y métricas financieras:** El cálculo de LTV, CAC y ROMI se realizó de manera precisa y bien fundamentada.  \n",
    "- **Visualización de datos:** Los gráficos utilizados para representar tendencias y comparaciones aportan valor al análisis y facilitan la interpretación de los resultados.  \n",
    "- **Conclusiones bien estructuradas:** Las recomendaciones son claras y respaldadas por los datos, lo que refuerza la aplicabilidad del análisis en la toma de decisiones.  \n",
    "\n",
    "    \n",
    "    \n",
    "**Áreas para Seguir Investigando:**\n",
    "    \n",
    "- **Optimización de segmentación de campañas:** Explorar modelos de atribución para entender mejor el impacto de cada fuente de adquisición.  \n",
    "- **Técnicas avanzadas de análisis de cohortes:** Evaluar segmentaciones más detalladas para identificar patrones de comportamiento en usuarios recurrentes.  \n",
    "- **Modelado predictivo para inversión en publicidad:** Implementar técnicas de machine learning para predecir qué fuentes de adquisición tendrán mejor rendimiento.  \n",
    "- **Automatización de reportes:** Uso de dashboards interactivos con herramientas como Power BI o Streamlit para mejorar la visualización de métricas clave.  \n",
    "\n",
    "¡Sigue así, estás haciendo un gran trabajo!  \n",
    "</div>\n"
   ]
  },
  {
   "cell_type": "code",
   "execution_count": null,
   "metadata": {},
   "outputs": [],
   "source": []
  }
 ],
 "metadata": {
  "ExecuteTimeLog": [
   {
    "duration": 1304,
    "start_time": "2025-03-05T21:14:03.664Z"
   },
   {
    "duration": 489,
    "start_time": "2025-03-05T21:21:26.941Z"
   },
   {
    "duration": 138,
    "start_time": "2025-03-05T21:25:27.841Z"
   },
   {
    "duration": 202,
    "start_time": "2025-03-05T21:25:41.137Z"
   },
   {
    "duration": 288,
    "start_time": "2025-03-05T21:26:31.762Z"
   },
   {
    "duration": 88,
    "start_time": "2025-03-05T21:28:32.184Z"
   },
   {
    "duration": 14,
    "start_time": "2025-03-05T21:29:19.283Z"
   },
   {
    "duration": 0,
    "start_time": "2025-03-05T21:31:03.399Z"
   },
   {
    "duration": 32056,
    "start_time": "2025-03-05T21:31:23.658Z"
   },
   {
    "duration": 32253,
    "start_time": "2025-03-05T21:32:53.647Z"
   },
   {
    "duration": 32954,
    "start_time": "2025-03-05T21:35:22.695Z"
   },
   {
    "duration": 6051,
    "start_time": "2025-03-05T21:38:39.091Z"
   },
   {
    "duration": 96,
    "start_time": "2025-03-05T21:39:43.776Z"
   },
   {
    "duration": 29,
    "start_time": "2025-03-05T21:40:50.702Z"
   },
   {
    "duration": 4,
    "start_time": "2025-03-05T21:44:37.783Z"
   },
   {
    "duration": 10,
    "start_time": "2025-03-05T21:46:05.865Z"
   },
   {
    "duration": 3,
    "start_time": "2025-03-05T21:50:06.566Z"
   },
   {
    "duration": 5,
    "start_time": "2025-03-05T21:50:24.524Z"
   },
   {
    "duration": 8,
    "start_time": "2025-03-05T21:51:02.189Z"
   },
   {
    "duration": 106,
    "start_time": "2025-03-05T21:52:50.595Z"
   },
   {
    "duration": 4,
    "start_time": "2025-03-05T21:55:41.461Z"
   },
   {
    "duration": 26,
    "start_time": "2025-03-05T22:00:17.012Z"
   },
   {
    "duration": 171,
    "start_time": "2025-03-09T19:55:13.785Z"
   },
   {
    "duration": 18,
    "start_time": "2025-03-09T19:59:31.259Z"
   },
   {
    "duration": 14,
    "start_time": "2025-03-09T20:05:35.818Z"
   },
   {
    "duration": 14,
    "start_time": "2025-03-09T20:06:24.375Z"
   },
   {
    "duration": 827,
    "start_time": "2025-03-09T20:06:38.499Z"
   },
   {
    "duration": 281,
    "start_time": "2025-03-09T20:06:48.826Z"
   },
   {
    "duration": 90,
    "start_time": "2025-03-09T20:06:55.141Z"
   },
   {
    "duration": 17,
    "start_time": "2025-03-09T20:06:59.001Z"
   },
   {
    "duration": 32755,
    "start_time": "2025-03-09T20:08:44.190Z"
   },
   {
    "duration": 97,
    "start_time": "2025-03-09T20:10:41.163Z"
   },
   {
    "duration": 27,
    "start_time": "2025-03-09T20:10:48.739Z"
   },
   {
    "duration": 4,
    "start_time": "2025-03-09T20:10:59.817Z"
   },
   {
    "duration": 11,
    "start_time": "2025-03-09T20:11:03.239Z"
   },
   {
    "duration": 3,
    "start_time": "2025-03-09T20:11:05.738Z"
   },
   {
    "duration": 4,
    "start_time": "2025-03-09T20:11:08.481Z"
   },
   {
    "duration": 8,
    "start_time": "2025-03-09T20:11:12.295Z"
   },
   {
    "duration": 39,
    "start_time": "2025-03-09T20:11:16.970Z"
   },
   {
    "duration": 35,
    "start_time": "2025-03-09T20:21:10.818Z"
   },
   {
    "duration": 93,
    "start_time": "2025-03-09T20:25:12.511Z"
   },
   {
    "duration": 3842,
    "start_time": "2025-03-09T20:48:08.422Z"
   },
   {
    "duration": 860,
    "start_time": "2025-03-11T08:55:54.886Z"
   },
   {
    "duration": 290,
    "start_time": "2025-03-11T08:56:20.371Z"
   },
   {
    "duration": 94,
    "start_time": "2025-03-11T08:56:29.693Z"
   },
   {
    "duration": 16,
    "start_time": "2025-03-11T08:56:33.133Z"
   },
   {
    "duration": 32709,
    "start_time": "2025-03-11T08:56:36.254Z"
   },
   {
    "duration": 96,
    "start_time": "2025-03-11T08:59:47.685Z"
   },
   {
    "duration": 29,
    "start_time": "2025-03-11T09:00:07.523Z"
   },
   {
    "duration": 4,
    "start_time": "2025-03-11T09:00:15.878Z"
   },
   {
    "duration": 11,
    "start_time": "2025-03-11T09:00:20.055Z"
   },
   {
    "duration": 3,
    "start_time": "2025-03-11T09:00:24.485Z"
   },
   {
    "duration": 5,
    "start_time": "2025-03-11T09:00:27.733Z"
   },
   {
    "duration": 15,
    "start_time": "2025-03-11T09:00:32.173Z"
   },
   {
    "duration": 35,
    "start_time": "2025-03-11T09:00:35.345Z"
   },
   {
    "duration": 94,
    "start_time": "2025-03-11T09:00:39.495Z"
   },
   {
    "duration": 4016,
    "start_time": "2025-03-11T09:05:00.694Z"
   },
   {
    "duration": 349,
    "start_time": "2025-03-11T09:12:39.440Z"
   },
   {
    "duration": 606,
    "start_time": "2025-03-11T09:13:25.445Z"
   },
   {
    "duration": 232,
    "start_time": "2025-03-11T09:14:04.294Z"
   }
  ],
  "kernelspec": {
   "display_name": "Python 3 (ipykernel)",
   "language": "python",
   "name": "python3"
  },
  "language_info": {
   "codemirror_mode": {
    "name": "ipython",
    "version": 3
   },
   "file_extension": ".py",
   "mimetype": "text/x-python",
   "name": "python",
   "nbconvert_exporter": "python",
   "pygments_lexer": "ipython3",
   "version": "3.9.19"
  },
  "toc": {
   "base_numbering": 1,
   "nav_menu": {},
   "number_sections": true,
   "sideBar": true,
   "skip_h1_title": true,
   "title_cell": "Table of Contents",
   "title_sidebar": "Contents",
   "toc_cell": false,
   "toc_position": {},
   "toc_section_display": true,
   "toc_window_display": false
  }
 },
 "nbformat": 4,
 "nbformat_minor": 2
}
